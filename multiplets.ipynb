{
 "cells": [
  {
   "cell_type": "code",
   "execution_count": 1,
   "metadata": {
    "collapsed": false
   },
   "outputs": [],
   "source": [
    "import numpy as np\n",
    "import itertools\n",
    "\n",
    "# Spin-orbitals are ordered: \n",
    "# b1_(1,dn) b1_(1,up) b1_(2,dn) b1_(2,up) .... b1_(nb1/2,dn) b1_(nb1/2,up) b2_(1,dn) b2_(1,up) ... \n",
    "# where within on shell, lz increaces. \n",
    "\n",
    "def hundsGroundState(nb,n):\n",
    "    '''return L, S and J for the ground state according to Hunds rule.\n",
    "    \n",
    "    input parameters\n",
    "    nb - number of spin-orbitals\n",
    "    n - number of electrons\n",
    "    '''\n",
    "    S,L,nTot = 0,0,n\n",
    "    for sz in [1/2.,-1/2.]:\n",
    "        for lz in range((nb-2)/4,-(nb-2)/4-1,-1):\n",
    "            if n > 0:\n",
    "                S += sz\n",
    "                L += lz\n",
    "                n -= 1\n",
    "            if n == 0:\n",
    "                J = L+S if nb/2 < nTot else abs(L-S) \n",
    "                return (L,S,J)\n",
    "\n",
    "def getSz(i):\n",
    "    return -1/2. if i%2 == 0 else 1/2.\n",
    "def getLz(i,nb1,nb2):\n",
    "    return i//2 - (nb1-2)/4 if i<nb1 else (i-nb1)//2 - (nb2-2)/4\n",
    "\n",
    "def findMultiplets(nb1,n1,nb2,n2):\n",
    "    '''return all multiplets given the occupation in two shells.\n",
    "    \n",
    "    input parameters\n",
    "    nb1 - number of spin-orbitals in the first shell\n",
    "    n1 - number of electrons in the first shell\n",
    "    nb2 - number of spin-orbitals in the second shell\n",
    "    n2 - number of electrons in the second shell\n",
    "    '''\n",
    "    # Check validity of input data\n",
    "    if not (nb1%2==0 and (nb1/2-1)%2 == 0): \n",
    "        raise ValueError('nb1 needs to fulfill: nb1 = 2*(2*L+1), L non-negative integer') \n",
    "    if not (nb2%2==0 and (nb2/2-1)%2 == 0): \n",
    "        raise ValueError('nb2 needs to fulfill: nb2 = 2*(2*L+1), L non-negative integer') \n",
    "\n",
    "    # Create basis.\n",
    "    # For each shell, create all configurations\n",
    "    # given the occupation in that shell.\n",
    "    states1 = tuple(itertools.combinations(range(nb1),n1))\n",
    "    states2 = tuple(itertools.combinations(nb1+np.arange(nb2),n2))\n",
    "    states = []\n",
    "    for s1 in states1:\n",
    "        for s2 in states2:\n",
    "            states.append(s1+s2)\n",
    "    states = tuple(states)\n",
    "    #print 'Number of states:',len(states)\n",
    "    # Measure Lz and Sz for each state\n",
    "    lzSz = {}\n",
    "    for s in states:\n",
    "        lz = 0\n",
    "        sz = 0\n",
    "        for i in s:\n",
    "            lz += getLz(i,nb1,nb2)\n",
    "            sz += getSz(i)\n",
    "        if (lz,sz) in lzSz:\n",
    "            lzSz[(lz,sz)] += 1\n",
    "        else:\n",
    "            lzSz[(lz,sz)] = 1\n",
    "    # Calculate L and S\n",
    "    ls = []\n",
    "    while lzSz:\n",
    "        # Find Lz max\n",
    "        lmax = [] \n",
    "        for c in lzSz:\n",
    "            lmax.append(c[0])\n",
    "        lmax = max(lmax)\n",
    "        # Given Lz max, find Sz max\n",
    "        smax = []\n",
    "        for c in lzSz:\n",
    "            if c[0] == lmax:\n",
    "                smax.append(c[1])\n",
    "        smax = max(smax)\n",
    "        # Save found L and S\n",
    "        ls.append((lmax,smax))\n",
    "        # Remove one configuration from each (Lz,Sz) pair fullfilling\n",
    "        # |Lz|<=LzMax and |Sz|<=SzMax\n",
    "        keys = []\n",
    "        for c in lzSz:\n",
    "            if abs(c[0]) <= lmax and abs(c[1]) <= smax:\n",
    "                if lzSz[c] == 1:\n",
    "                    keys.append(c)\n",
    "                else:\n",
    "                    lzSz[c] -= 1\n",
    "        for key in keys:\n",
    "            lzSz.pop(key)\n",
    "            \n",
    "    multiplets = []\n",
    "    for (L,S) in ls:\n",
    "        for j in np.arange(abs(L-S),L+S+1):\n",
    "            multiplets.append((L,S,j))\n",
    "    return multiplets"
   ]
  },
  {
   "cell_type": "code",
   "execution_count": 126,
   "metadata": {
    "collapsed": false
   },
   "outputs": [
    {
     "name": "stdout",
     "output_type": "stream",
     "text": [
      "Transition     GroundState(L,S,J) #Transitions #TermSymbols\n",
      "3d^0->(2p^5 3d^1)  (0,0.0,0.0)            4           12\n",
      "3d^1->(2p^5 3d^2)  (2,0.5,1.5)           29           45\n",
      "3d^2->(2p^5 3d^3)  (3,1.0,2.0)           68          110\n",
      "3d^3->(2p^5 3d^4)  (3,1.5,1.5)           95          180\n",
      "3d^4->(2p^5 3d^5)  (2,2.0,0.0)           43          214\n",
      "3d^5->(2p^5 3d^6)  (0,2.5,2.5)          110          180\n",
      "3d^6->(2p^5 3d^7)  (2,2.0,4.0)           53          110\n",
      "3d^7->(2p^5 3d^8)  (3,1.5,4.5)           16           45\n",
      "3d^8->(2p^5 3d^9)  (3,1.0,4.0)            4           12\n",
      "3d^9->(2p^5 3d^10)  (2,0.5,2.5)            1            2\n"
     ]
    }
   ],
   "source": [
    "nb2 = 10\n",
    "nb1 = 6\n",
    "n1 = 5\n",
    "print 'Transition     GroundState(L,S,J) #Transitions #TermSymbols'\n",
    "for n2 in range(10):    \n",
    "    lsj0 = hundsGroundState(nb2,n2)     \n",
    "    multiplets = findMultiplets(nb1,n1,nb2,n2+1)\n",
    "    transitions = []\n",
    "    for m in multiplets:\n",
    "        if abs(m[2]-lsj0[2])<=1:\n",
    "            transitions.append(m)\n",
    "    print ('3d^{:d}->(2p^5 3d^{:d})  ({:d},{:3.1f},{:3.1f}) ' \n",
    "           '{:12d} {:12d}').format(n2,n2+1,lsj0[0],lsj0[1],lsj0[2],\n",
    "                                   len(transitions),len(multiplets)) "
   ]
  },
  {
   "cell_type": "code",
   "execution_count": null,
   "metadata": {
    "collapsed": false
   },
   "outputs": [],
   "source": []
  },
  {
   "cell_type": "code",
   "execution_count": null,
   "metadata": {
    "collapsed": false
   },
   "outputs": [],
   "source": []
  }
 ],
 "metadata": {
  "kernelspec": {
   "display_name": "Python 2",
   "language": "python",
   "name": "python2"
  },
  "language_info": {
   "codemirror_mode": {
    "name": "ipython",
    "version": 2
   },
   "file_extension": ".py",
   "mimetype": "text/x-python",
   "name": "python",
   "nbconvert_exporter": "python",
   "pygments_lexer": "ipython2",
   "version": "2.7.13"
  }
 },
 "nbformat": 4,
 "nbformat_minor": 0
}
